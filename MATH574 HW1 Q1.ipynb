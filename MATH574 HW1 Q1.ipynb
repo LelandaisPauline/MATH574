{
 "cells": [
  {
   "cell_type": "code",
   "execution_count": 1,
   "metadata": {},
   "outputs": [],
   "source": [
    "import numpy as np\n",
    "import matplotlib.pyplot as plt\n",
    "import math\n",
    "from numpy import random as rd\n",
    "from interval import interval, inf, imath"
   ]
  },
  {
   "cell_type": "markdown",
   "metadata": {},
   "source": [
    "# Question 1 (2.8.11):"
   ]
  },
  {
   "cell_type": "code",
   "execution_count": 2,
   "metadata": {},
   "outputs": [],
   "source": [
    "def f(x):\n",
    "    y=x*imath.exp(x)-1\n",
    "    #print (y)\n",
    "    #yp=y[0][0]\n",
    "    yp=max(abs(y[0][1]),abs(y[0][0]))\n",
    "    return yp"
   ]
  },
  {
   "cell_type": "code",
   "execution_count": 3,
   "metadata": {},
   "outputs": [],
   "source": [
    "def df(x):\n",
    "    y=imath.exp(x)+f(x)+1\n",
    "    #print (y)\n",
    "    #yp=y[0][0]\n",
    "    yp=max(abs(y[0][1]),abs(y[0][0]))\n",
    "    return yp"
   ]
  },
  {
   "cell_type": "code",
   "execution_count": 4,
   "metadata": {},
   "outputs": [],
   "source": [
    "def ddf(x):\n",
    "    y=df(x)+imath.exp(x)\n",
    "    #print (y)\n",
    "    #yp=y[0][0]\n",
    "    yp=max(abs(y[0][1]),abs(y[0][0]))\n",
    "    return yp"
   ]
  },
  {
   "cell_type": "code",
   "execution_count": 5,
   "metadata": {},
   "outputs": [],
   "source": [
    "def Newton (x):\n",
    "    return x-f(x)/df(x)"
   ]
  },
  {
   "cell_type": "code",
   "execution_count": 6,
   "metadata": {},
   "outputs": [
    {
     "name": "stdout",
     "output_type": "stream",
     "text": [
      "The approximation of the root is : r= 0.5671432904097838\n",
      "This took  3  iterations\n",
      "1/f'(x) is 0.36189625663488917\n",
      "and f(r) =  2.220446049250313e-16\n",
      "Y0=|Af(r)| =  8.03571113283417e-17\n",
      "Z0=|1-Adf(r)| =  0.0\n",
      "sup ddf =  4.589746639156114\n",
      "Thus Z2 = |A* sup ddf| =  1.661012127613161\n",
      "Then p is zero at r= 1.0026022743920509e-16\n"
     ]
    }
   ],
   "source": [
    "eps=0.00000000001\n",
    "rad=0.01\n",
    "        \n",
    "x0=0.6\n",
    "x1=Newton(x0)\n",
    "ans=x1\n",
    "\n",
    "M=0\n",
    "while abs(x0-x1)>eps :\n",
    "    M+=1\n",
    "    x0=x1\n",
    "    x1=Newton(x0)\n",
    "    ans=x1\n",
    "    if M == 100:\n",
    "        x0=x1\n",
    "        ans='diverges'\n",
    "print (\"The approximation of the root is : r=\",ans)\n",
    "print (\"This took \",M, \" iterations\")\n",
    "A=1/df(ans)\n",
    "print (\"1/f'(x) is\", A)\n",
    "print (\"and f(r) = \", f(ans))\n",
    "Y0=abs(A*f(ans))\n",
    "print (\"Y0=|Af(r)| = \" , Y0)\n",
    "print (\"Z0=|1-Adf(r)| = \", abs(1-A*df(ans)))\n",
    "sup=ddf(ans+rad)\n",
    "print (\"sup ddf = \", sup)\n",
    "Z2=A*sup\n",
    "print (\"Thus Z2 = |A* sup ddf| = \", Z2)\n",
    "\n",
    "pr=(1-math.sqrt(1-4*Z2*Y0))/(2*Z2)\n",
    "print (\"Then p is zero at r=\", pr)\n",
    "\n",
    "\n"
   ]
  },
  {
   "cell_type": "code",
   "execution_count": null,
   "metadata": {},
   "outputs": [],
   "source": []
  },
  {
   "cell_type": "code",
   "execution_count": null,
   "metadata": {},
   "outputs": [],
   "source": []
  }
 ],
 "metadata": {
  "kernelspec": {
   "display_name": "Python 3",
   "language": "python",
   "name": "python3"
  },
  "language_info": {
   "codemirror_mode": {
    "name": "ipython",
    "version": 3
   },
   "file_extension": ".py",
   "mimetype": "text/x-python",
   "name": "python",
   "nbconvert_exporter": "python",
   "pygments_lexer": "ipython3",
   "version": "3.7.4"
  }
 },
 "nbformat": 4,
 "nbformat_minor": 4
}
