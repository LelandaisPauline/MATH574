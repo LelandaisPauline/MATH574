{
 "cells": [
  {
   "cell_type": "code",
   "execution_count": 1,
   "metadata": {},
   "outputs": [],
   "source": [
    "import numpy as np\n",
    "import matplotlib.pyplot as plt\n",
    "import math\n",
    "from numpy import random as rd\n",
    "from interval import interval, inf, imath"
   ]
  },
  {
   "cell_type": "markdown",
   "metadata": {},
   "source": [
    "# Question 2 (2.8.13):"
   ]
  },
  {
   "cell_type": "code",
   "execution_count": 2,
   "metadata": {},
   "outputs": [],
   "source": [
    "def FHN(X, gamma):\n",
    "    y1=X[0][0]*(X[0][0]-a)*(1-X[0][0])-X[1][0]\n",
    "    y2=epsilon*(X[0][0]-gamma*X[1][0])\n",
    "    return [[y1],[y2]]"
   ]
  },
  {
   "cell_type": "code",
   "execution_count": 3,
   "metadata": {},
   "outputs": [],
   "source": [
    "def dFHN(X, gamma):\n",
    "    y1=12*X[0][0]-6-3*X[0][0]*X[0][0]\n",
    "    return [[y1, -1],[1, -1*gamma]]"
   ]
  },
  {
   "cell_type": "code",
   "execution_count": 4,
   "metadata": {},
   "outputs": [],
   "source": [
    "def ddFHN(X, gamma):\n",
    "    return 12-6*X[0][0]"
   ]
  },
  {
   "cell_type": "code",
   "execution_count": 5,
   "metadata": {},
   "outputs": [],
   "source": [
    "def Newtonstep (X, gamma):\n",
    "    inv=np.linalg.inv(dFHN(X, gamma))\n",
    "    prod=np.matmul(inv,FHN(X, gamma))\n",
    "    return X-prod"
   ]
  },
  {
   "cell_type": "code",
   "execution_count": 6,
   "metadata": {},
   "outputs": [],
   "source": [
    "def Newton (X, gamma) :\n",
    "    X0=X\n",
    "    X1=Newtonstep(X0, gamma)\n",
    "    ans=X1\n",
    "\n",
    "    M=0\n",
    "    while abs(np.linalg.norm(X0-X1))>eps :\n",
    "        M+=1\n",
    "        X0=X1\n",
    "        X1=Newtonstep(X0, gamma)\n",
    "        ans=X1\n",
    "        if M == 500000:\n",
    "            X0=X1\n",
    "            ans='diverges'\n",
    "            print (\"problem at gamma =\", gamma)\n",
    "            \n",
    "    return ans"
   ]
  },
  {
   "cell_type": "code",
   "execution_count": 7,
   "metadata": {},
   "outputs": [],
   "source": [
    "def FindCoeffs (root, g, rad):\n",
    "    invdF=np.linalg.inv(dFHN(root, g))\n",
    "    Y0=np.linalg.norm(np.matmul(invdF, FHN(root, g)))\n",
    "    Z2=abs(invdF[0][0]*(12-6*(root[0][0]-rad)))\n",
    "    return [Y0, Z2]"
   ]
  },
  {
   "cell_type": "code",
   "execution_count": 8,
   "metadata": {},
   "outputs": [],
   "source": [
    "def IsPNegative (coeffs):\n",
    "    delta= math.sqrt(1-4*coeffs[0]*coeffs[1])\n",
    "    pr=(1-delta)/(2*coeffs[1])\n",
    "    bound=pr+0.001*pr\n",
    "    #check=coeffs[1]*bound*bound-bound+coeffs[0]\n",
    "    \n",
    "    #if check <0:\n",
    "    #    print(\"Yes! Within the ball of radius \", bound, \":)\")\n",
    "    #else:\n",
    "    #    print(\"No :(\")#print (\"Z2 =\", coeffs[1],\" and Y0 =\", coeffs[0])#print (\"delta =\", delta)\n",
    "    return bound"
   ]
  },
  {
   "cell_type": "code",
   "execution_count": 9,
   "metadata": {},
   "outputs": [],
   "source": [
    "def RadiiPoly (X, gamma, rad):\n",
    "    \n",
    "    root=Newton(X, gamma)#print(root)\n",
    "    coeffs=FindCoeffs (root, gamma, rad)#print(coeffs)\n",
    "    answer=IsPNegative(coeffs)\n",
    "    print(\"There is a root in the ball of radius\", answer,\" around \", root, )\n",
    "    \n",
    "    return root"
   ]
  },
  {
   "cell_type": "code",
   "execution_count": 10,
   "metadata": {},
   "outputs": [
    {
     "name": "stdout",
     "output_type": "stream",
     "text": [
      "-------\n",
      "There is a root in the ball of radius 1.701621396695715e-12  around  [[1.12917131]\n",
      " [0.56458565]]\n",
      "-------\n",
      "There is a root in the ball of radius 1.079854151953897e-12  around  [[1.13260088]\n",
      " [0.58082096]]\n",
      "-------\n",
      "There is a root in the ball of radius 1.1103115535922144e-12  around  [[1.13621777]\n",
      " [0.59800935]]\n",
      "-------\n",
      "There is a root in the ball of radius 1.1422115754053964e-12  around  [[1.14003778]\n",
      " [0.61623664]]\n",
      "-------\n",
      "There is a root in the ball of radius 1.1756807477898773e-12  around  [[1.14407855]\n",
      " [0.63559919]]\n",
      "-------\n",
      "There is a root in the ball of radius 1.2107413337894947e-12  around  [[1.1483598]\n",
      " [0.6562056]]\n",
      "-------\n",
      "There is a root in the ball of radius 1.2475112151906902e-12  around  [[1.15290371]\n",
      " [0.67817865]]\n",
      "-------\n",
      "There is a root in the ball of radius 1.286324441929326e-12  around  [[1.15773525]\n",
      " [0.70165773]]\n",
      "-------\n",
      "There is a root in the ball of radius 1.3276531271723571e-12  around  [[1.16288269]\n",
      " [0.72680168]]\n",
      "-------\n",
      "There is a root in the ball of radius 1.3711735446764257e-12  around  [[1.16837812]\n",
      " [0.75379234]]\n",
      "-------\n",
      "There is a root in the ball of radius 1.4177864731160884e-12  around  [[1.17425814]\n",
      " [0.78283876]]\n",
      "-------\n",
      "There is a root in the ball of radius 1.4670665979461974e-12  around  [[1.1805647 ]\n",
      " [0.81418255]]\n",
      "-------\n",
      "There is a root in the ball of radius 1.520231161987981e-12  around  [[1.18734607]\n",
      " [0.84810433]]\n",
      "-------\n",
      "There is a root in the ball of radius 1.5772634064599587e-12  around  [[1.19465813]\n",
      " [0.88493195]]\n",
      "-------\n",
      "There is a root in the ball of radius 1.6388033116754838e-12  around  [[1.20256593]\n",
      " [0.92505072]]\n",
      "-------\n",
      "There is a root in the ball of radius 1.7056315881524334e-12  around  [[1.21114562]\n",
      " [0.96891649]]\n",
      "-------\n",
      "There is a root in the ball of radius 1.7791045951703079e-12  around  [[1.22048696]\n",
      " [1.01707246]]\n",
      "-------\n",
      "There is a root in the ball of radius 1.8597721878794254e-12  around  [[1.23069653]\n",
      " [1.07017089]]\n",
      "-------\n",
      "There is a root in the ball of radius 1.950017030931367e-12  around  [[1.24190185]\n",
      " [1.12900169]]\n",
      "-------\n",
      "There is a root in the ball of radius 2.0518903183387705e-12  around  [[1.25425688]\n",
      " [1.19453036]]\n",
      "-------\n",
      "There is a root in the ball of radius 2.168160310425985e-12  around  [[1.26794919]\n",
      " [1.26794919]]\n",
      "-------\n",
      "There is a root in the ball of radius 2.303985128840034e-12  around  [[1.28320985]\n",
      " [1.35074721]]\n",
      "-------\n",
      "There is a root in the ball of radius 2.4641512413915213e-12  around  [[1.30032683]\n",
      " [1.44480759]]\n",
      "-------\n",
      "There is a root in the ball of radius 2.659259120843925e-12  around  [[1.3196639 ]\n",
      " [1.55254576]]\n",
      "-------\n",
      "There is a root in the ball of radius 8.412583663514157e-13  around  [[1.3416876 ]\n",
      " [1.67710951]]\n",
      "-------\n",
      "There is a root in the ball of radius 9.29277157244348e-13  around  [[1.36700684]\n",
      " [1.82267578]]\n",
      "-------\n",
      "There is a root in the ball of radius 1.0488408928794947e-12  around  [[1.39643255]\n",
      " [1.99490364]]\n",
      "-------\n",
      "There is a root in the ball of radius 1.2207614741818879e-12  around  [[1.43107092]\n",
      " [2.20164757]]\n",
      "-------\n",
      "There is a root in the ball of radius 1.4886937897612266e-12  around  [[1.47247477]\n",
      " [2.45412461]]\n",
      "-------\n",
      "There is a root in the ball of radius 1.949807798501182e-12  around  [[1.52290211]\n",
      " [2.76891292]]\n",
      "-------\n",
      "There is a root in the ball of radius 2.866555380964278e-12  around  [[1.58578644]\n",
      " [3.17157288]]\n",
      "-------\n",
      "There is a root in the ball of radius 1.496898355656031e-12  around  [[1.66666667]\n",
      " [3.7037037 ]]\n",
      "-------\n",
      "There is a root in the ball of radius 1.2175116239964967e-12  around  [[1.77525513]\n",
      " [4.43813782]]\n",
      "-------\n",
      "There is a root in the ball of radius 2.837028980889492e-12  around  [[1.93095503]\n",
      " [5.51701438]]\n",
      "-------\n",
      "There is a root in the ball of radius 1.7500165529918552e-12  around  [[2.18350342]\n",
      " [7.27834473]]\n",
      "-------\n",
      "There is a root in the ball of radius 1.0007355017744626e-11  around  [[ 3.00000089]\n",
      " [12.00000355]]\n",
      "-------\n",
      "There is a root in the ball of radius 1.5998568210958713e-13  around  [[-3.4473190e-14]\n",
      " [-1.7236595e-13]]\n",
      "-------\n",
      "There is a root in the ball of radius 1.6902929673218865e-14  around  [[-2.72156763e-15]\n",
      " [-1.81437842e-14]]\n",
      "-------\n",
      "There is a root in the ball of radius 1.6164847238542402e-15  around  [[-1.70097977e-16]\n",
      " [-1.70097977e-15]]\n",
      "-------\n",
      "There is a root in the ball of radius 1.0944948651096538e-16  around  [[-6.54222989e-18]\n",
      " [-1.30844598e-16]]\n",
      "-------\n"
     ]
    }
   ],
   "source": [
    "X0=[[1.],[0.]]\n",
    "a=5.\n",
    "epsilon=1.\n",
    "g=2\n",
    "\n",
    "eps=0.00000000001\n",
    "rad=0.2\n",
    "print(\"-------\")\n",
    "\n",
    "for i in range(40):#print (\"i=\",i,\"and g=\",g)\n",
    "    X0=RadiiPoly (X0, g, rad)\n",
    "    g=abs(g-0.05)\n",
    "    print(\"-------\")"
   ]
  },
  {
   "cell_type": "code",
   "execution_count": null,
   "metadata": {},
   "outputs": [],
   "source": []
  }
 ],
 "metadata": {
  "kernelspec": {
   "display_name": "Python 3",
   "language": "python",
   "name": "python3"
  },
  "language_info": {
   "codemirror_mode": {
    "name": "ipython",
    "version": 3
   },
   "file_extension": ".py",
   "mimetype": "text/x-python",
   "name": "python",
   "nbconvert_exporter": "python",
   "pygments_lexer": "ipython3",
   "version": "3.7.4"
  }
 },
 "nbformat": 4,
 "nbformat_minor": 4
}
