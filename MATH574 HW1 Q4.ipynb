{
 "cells": [
  {
   "cell_type": "code",
   "execution_count": 61,
   "metadata": {},
   "outputs": [],
   "source": [
    "import numpy as np\n",
    "import matplotlib.pyplot as plt\n",
    "import math\n",
    "from numpy import random as rd\n",
    "from interval import interval, inf, imath, fpu\n",
    "import random"
   ]
  },
  {
   "cell_type": "markdown",
   "metadata": {},
   "source": [
    "# Question 4 (2.8.15):"
   ]
  },
  {
   "cell_type": "code",
   "execution_count": 62,
   "metadata": {},
   "outputs": [],
   "source": [
    "def f(x, mu):\n",
    "    y=mu*x*(1-x)\n",
    "    return y"
   ]
  },
  {
   "cell_type": "code",
   "execution_count": 63,
   "metadata": {},
   "outputs": [],
   "source": [
    "def F2(X, mu):\n",
    "    y1=f(X[0][0], mu)-X[1][0]\n",
    "    y2=f(X[1][0], mu)-X[0][0]\n",
    "    return [[y1], [y2]]"
   ]
  },
  {
   "cell_type": "code",
   "execution_count": 64,
   "metadata": {},
   "outputs": [],
   "source": [
    "def F3(X, mu):\n",
    "    y1=f(X[0][0], mu)-X[1][0]\n",
    "    y2=f(X[1][0], mu)-X[2][0]\n",
    "    y3=f(X[2][0], mu)-X[0][0]\n",
    "    return [[y1], [y2], [y3]]"
   ]
  },
  {
   "cell_type": "code",
   "execution_count": 65,
   "metadata": {},
   "outputs": [],
   "source": [
    "def DF2(X, mu):\n",
    "    y11=mu*(1-2*X[0][0])\n",
    "    y22=mu*(1-2*X[1][0])\n",
    "    return [[y11, -1], [-1, y22]]"
   ]
  },
  {
   "cell_type": "code",
   "execution_count": 66,
   "metadata": {},
   "outputs": [],
   "source": [
    "def DF3(X, mu):\n",
    "    y11=mu*(1-2*X[0][0])\n",
    "    y22=mu*(1-2*X[1][0])\n",
    "    y33=mu*(1-2*X[2][0])\n",
    "    return [[y11, -1, 0], [0, y22, -1], [-1, 0, y33]]"
   ]
  },
  {
   "cell_type": "code",
   "execution_count": 67,
   "metadata": {},
   "outputs": [],
   "source": [
    "def Newtonstep (X, mu, k):\n",
    "    if k==2 :\n",
    "        inv=np.linalg.inv(DF2(X, mu))\n",
    "        prod=np.matmul(inv,F2(X, mu))\n",
    "    else :\n",
    "        inv=np.linalg.inv(DF3(X, mu))\n",
    "        prod=np.matmul(inv,F3(X, mu))\n",
    "    return X-prod"
   ]
  },
  {
   "cell_type": "code",
   "execution_count": 68,
   "metadata": {},
   "outputs": [],
   "source": [
    "def Newton (X, mu, k) :\n",
    "    X0=X\n",
    "    X1=Newtonstep(X0, mu, k)\n",
    "    ans=X1\n",
    "\n",
    "    M=0\n",
    "    while abs(np.linalg.norm(X0-X1))>eps :\n",
    "        M+=1\n",
    "        X0=X1\n",
    "        X1=Newtonstep(X0, mu, k)\n",
    "        ans=X1\n",
    "        if M == 500000:\n",
    "            X0=X1\n",
    "            ans='diverges'\n",
    "            \n",
    "    return ans"
   ]
  },
  {
   "cell_type": "code",
   "execution_count": 78,
   "metadata": {},
   "outputs": [],
   "source": [
    "def FindCoeffs (root, mu, rad, k):\n",
    "    if k==2:\n",
    "        invdF=np.linalg.inv(DF2(root, mu))\n",
    "        #print (\"So A is =\",invdF)\n",
    "        #print (\"And the function takes value :\",F2(root, mu))\n",
    "        Y0=np.linalg.norm(np.matmul(invdF, F2(root, mu)))\n",
    "        #print (\"So Y0 is =\",Y0)\n",
    "        templist=[]\n",
    "        for i in range(k):\n",
    "            somme=0\n",
    "            for j in range(k):\n",
    "                somme+=abs(invdF[i][j])\n",
    "            templist.append(somme)\n",
    "        Z2=2*mu*max(templist[0],templist[1])\n",
    "    else:\n",
    "        invdF=np.linalg.inv(DF3(root, mu))\n",
    "        #print (\"So A is =\",invdF)\n",
    "        #print (\"And the function takes value :\",F2(root, mu))\n",
    "        Y0=np.linalg.norm(np.matmul(invdF, F3(root, mu)))\n",
    "        #print (\"So Y0 is =\",Y0)\n",
    "        templist=[]\n",
    "        for i in range(k):\n",
    "            somme=0\n",
    "            for j in range(k):\n",
    "                somme+=abs(invdF[i][j])\n",
    "            templist.append(somme)\n",
    "        Z2=2*mu*max(templist[0],templist[1], templist[2])#print(\"Z2 is :\", Z2)\n",
    "    return [Y0, Z2]"
   ]
  },
  {
   "cell_type": "code",
   "execution_count": 74,
   "metadata": {},
   "outputs": [],
   "source": [
    "def IsPNegative (coeffs):\n",
    "    delta= math.sqrt(1-4*coeffs[0]*coeffs[1])\n",
    "    pr=(1-delta)/(2*coeffs[1])\n",
    "    bound=pr+0.1*pr\n",
    "    check=coeffs[1]*bound*bound-bound+coeffs[0]#print (\"check =\", check)\n",
    "    \n",
    "    if check <0:\n",
    "        print(\"Yes! Within the ball of radius \", bound, \":)\")\n",
    "    else:\n",
    "        print(\"No :(\")#print (\"Z2 =\", coeffs[1],\" and Y0 =\", coeffs[0])#print (\"delta =\", delta)\n",
    "    return bound"
   ]
  },
  {
   "cell_type": "code",
   "execution_count": 75,
   "metadata": {},
   "outputs": [],
   "source": [
    "def RadiiPoly (X,mu, rad, k):\n",
    "    \n",
    "    root=Newton(X, mu, k)\n",
    "    #print(\"Newton finds X0=\",root)\n",
    "    coeffs=FindCoeffs (root, mu, rad, k)#print(coeffs)\n",
    "    answer=IsPNegative(coeffs)\n",
    "    print(\"There is a root in the ball of radius\", answer,\" around \", root, )\n",
    "    \n",
    "    return root"
   ]
  },
  {
   "cell_type": "code",
   "execution_count": 81,
   "metadata": {},
   "outputs": [
    {
     "name": "stdout",
     "output_type": "stream",
     "text": [
      "-------\n",
      "Yes! Within the ball of radius  3.1601364603417773e-16 :)\n",
      "There is a root in the ball of radius 3.1601364603417773e-16  around  [[0.51304451]\n",
      " [0.79945549]]\n",
      "So we have found an orbit of period  2 for mu= 3.2 .\n",
      "-------\n",
      "Yes! Within the ball of radius  7.357331626371869e-17 :)\n",
      "There is a root in the ball of radius 7.357331626371869e-17  around  [[0.73890339]\n",
      " [0.73890339]\n",
      " [0.73890339]]\n",
      "So we have found an orbit of period  3 for mu= 3.83 .\n",
      "-------\n",
      "Yes! Within the ball of radius  7.415351712502343e-17 :)\n",
      "There is a root in the ball of radius 7.415351712502343e-17  around  [[0.74025974]\n",
      " [0.74025974]\n",
      " [0.74025974]]\n",
      "So we have found an orbit of period  3 for mu= 3.85 .\n",
      "-------\n"
     ]
    }
   ],
   "source": [
    "mulist=[[3.2, 2], [3.83, 3], [3.85, 3]]\n",
    "X0list=[[[0.5], [0.9]], [[.7], [.7], [.7]], [[.7], [.7], [.7]]]\n",
    "\n",
    "eps=0.00000000001\n",
    "rad=0.2\n",
    "print(\"-------\")\n",
    "\n",
    "for l in range(len(mulist)):\n",
    "    X0=X0list[l]#print (mulist[l][1])\n",
    "    RadiiPoly(X0, mulist[l][0], rad, mulist[l][1])\n",
    "    print(\"So we have found an orbit of period \", mulist[l][1],\"for mu=\", mulist[l][0],\".\")\n",
    "    print (\"-------\")\n",
    "\n"
   ]
  },
  {
   "cell_type": "code",
   "execution_count": null,
   "metadata": {},
   "outputs": [],
   "source": []
  }
 ],
 "metadata": {
  "kernelspec": {
   "display_name": "Python 3",
   "language": "python",
   "name": "python3"
  },
  "language_info": {
   "codemirror_mode": {
    "name": "ipython",
    "version": 3
   },
   "file_extension": ".py",
   "mimetype": "text/x-python",
   "name": "python",
   "nbconvert_exporter": "python",
   "pygments_lexer": "ipython3",
   "version": "3.7.4"
  }
 },
 "nbformat": 4,
 "nbformat_minor": 4
}
